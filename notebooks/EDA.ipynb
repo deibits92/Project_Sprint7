{
 "cells": [
  {
   "cell_type": "code",
   "execution_count": null,
   "id": "17fac443",
   "metadata": {
    "vscode": {
     "languageId": "plaintext"
    }
   },
   "outputs": [],
   "source": [
    "import pandas as pd\n",
    "import plotly.graph_objects as go  # Importación de plotly.graph_objects como go\n",
    "\n",
    "# Leer los datos del archivo CSV\n",
    "vehic_data = pd.read_csv('vehicles_us.csv')\n",
    "\n",
    "# Crear un histograma utilizando plotly.graph_objects\n",
    "# Se crea una figura vacía y luego se añade un rastro de histograma\n",
    "fig = go.Figure(data=[go.Histogram(x=vehic_data['odometer'])])\n",
    "\n",
    "# Añadir título al gráfico\n",
    "fig.update_layout(title_text='Distribución del Kilometraje (odómetro)')\n",
    "\n",
    "# Mostrar el gráfico Plotly\n",
    "fig.show()\n"
   ]
  }
 ],
 "metadata": {
  "language_info": {
   "name": "python"
  }
 },
 "nbformat": 4,
 "nbformat_minor": 5
}
